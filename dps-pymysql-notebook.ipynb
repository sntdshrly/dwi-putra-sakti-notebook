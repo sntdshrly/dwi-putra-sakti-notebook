{
 "cells": [
  {
   "cell_type": "code",
   "execution_count": 1,
   "id": "d89d278d",
   "metadata": {
    "_cell_guid": "b1076dfc-b9ad-4769-8c92-a6c4dae69d19",
    "_uuid": "8f2839f25d086af736a60e9eeb907d3b93b6e0e5",
    "execution": {
     "iopub.execute_input": "2023-11-11T10:51:25.871740Z",
     "iopub.status.busy": "2023-11-11T10:51:25.871278Z",
     "iopub.status.idle": "2023-11-11T10:51:43.394596Z",
     "shell.execute_reply": "2023-11-11T10:51:43.392819Z"
    },
    "papermill": {
     "duration": 17.53387,
     "end_time": "2023-11-11T10:51:43.398140",
     "exception": false,
     "start_time": "2023-11-11T10:51:25.864270",
     "status": "completed"
    },
    "tags": []
   },
   "outputs": [
    {
     "name": "stdout",
     "output_type": "stream",
     "text": [
      "Collecting pymysql\r\n",
      "  Obtaining dependency information for pymysql from https://files.pythonhosted.org/packages/e5/30/20467e39523d0cfc2b6227902d3687a16364307260c75e6a1cb4422b0c62/PyMySQL-1.1.0-py3-none-any.whl.metadata\r\n",
      "  Downloading PyMySQL-1.1.0-py3-none-any.whl.metadata (4.4 kB)\r\n",
      "Downloading PyMySQL-1.1.0-py3-none-any.whl (44 kB)\r\n",
      "\u001b[2K   \u001b[90m━━━━━━━━━━━━━━━━━━━━━━━━━━━━━━━━━━━━━━━━\u001b[0m \u001b[32m44.8/44.8 kB\u001b[0m \u001b[31m2.9 MB/s\u001b[0m eta \u001b[36m0:00:00\u001b[0m\r\n",
      "\u001b[?25hInstalling collected packages: pymysql\r\n",
      "Successfully installed pymysql-1.1.0\r\n"
     ]
    }
   ],
   "source": [
    "!pip install pymysql"
   ]
  },
  {
   "cell_type": "code",
   "execution_count": 2,
   "id": "25a97665",
   "metadata": {
    "execution": {
     "iopub.execute_input": "2023-11-11T10:51:43.411058Z",
     "iopub.status.busy": "2023-11-11T10:51:43.410499Z",
     "iopub.status.idle": "2023-11-11T10:51:43.996507Z",
     "shell.execute_reply": "2023-11-11T10:51:43.994677Z"
    },
    "papermill": {
     "duration": 0.596469,
     "end_time": "2023-11-11T10:51:43.999729",
     "exception": false,
     "start_time": "2023-11-11T10:51:43.403260",
     "status": "completed"
    },
    "tags": []
   },
   "outputs": [],
   "source": [
    "import pymysql\n",
    "import pandas as pd"
   ]
  },
  {
   "cell_type": "code",
   "execution_count": 3,
   "id": "bd62475c",
   "metadata": {
    "execution": {
     "iopub.execute_input": "2023-11-11T10:51:44.011742Z",
     "iopub.status.busy": "2023-11-11T10:51:44.011044Z",
     "iopub.status.idle": "2023-11-11T10:51:44.016681Z",
     "shell.execute_reply": "2023-11-11T10:51:44.015656Z"
    },
    "papermill": {
     "duration": 0.014617,
     "end_time": "2023-11-11T10:51:44.019159",
     "exception": false,
     "start_time": "2023-11-11T10:51:44.004542",
     "status": "completed"
    },
    "tags": []
   },
   "outputs": [],
   "source": [
    "host = '36.93.148.91'\n",
    "port = 3307\n",
    "user = 'dataanalyst'\n",
    "password = 'Python*123'\n",
    "database = 'gis_db'"
   ]
  },
  {
   "cell_type": "code",
   "execution_count": 4,
   "id": "69a834a9",
   "metadata": {
    "execution": {
     "iopub.execute_input": "2023-11-11T10:51:44.030967Z",
     "iopub.status.busy": "2023-11-11T10:51:44.029751Z",
     "iopub.status.idle": "2023-11-11T10:51:44.944035Z",
     "shell.execute_reply": "2023-11-11T10:51:44.942579Z"
    },
    "papermill": {
     "duration": 0.92405,
     "end_time": "2023-11-11T10:51:44.947600",
     "exception": false,
     "start_time": "2023-11-11T10:51:44.023550",
     "status": "completed"
    },
    "tags": []
   },
   "outputs": [],
   "source": [
    "connection = pymysql.connect(\n",
    "    host=host,\n",
    "    port=port,\n",
    "    user=user,\n",
    "    password=password,\n",
    "    database=database\n",
    ")"
   ]
  },
  {
   "cell_type": "code",
   "execution_count": 5,
   "id": "87e1e135",
   "metadata": {
    "execution": {
     "iopub.execute_input": "2023-11-11T10:51:44.959626Z",
     "iopub.status.busy": "2023-11-11T10:51:44.959138Z",
     "iopub.status.idle": "2023-11-11T10:51:44.965101Z",
     "shell.execute_reply": "2023-11-11T10:51:44.963783Z"
    },
    "papermill": {
     "duration": 0.015464,
     "end_time": "2023-11-11T10:51:44.968087",
     "exception": false,
     "start_time": "2023-11-11T10:51:44.952623",
     "status": "completed"
    },
    "tags": []
   },
   "outputs": [],
   "source": [
    "cursor = connection.cursor()"
   ]
  },
  {
   "cell_type": "code",
   "execution_count": 6,
   "id": "f3e32a92",
   "metadata": {
    "execution": {
     "iopub.execute_input": "2023-11-11T10:51:44.979566Z",
     "iopub.status.busy": "2023-11-11T10:51:44.978574Z",
     "iopub.status.idle": "2023-11-11T10:51:45.198680Z",
     "shell.execute_reply": "2023-11-11T10:51:45.197205Z"
    },
    "papermill": {
     "duration": 0.229093,
     "end_time": "2023-11-11T10:51:45.201761",
     "exception": false,
     "start_time": "2023-11-11T10:51:44.972668",
     "status": "completed"
    },
    "tags": []
   },
   "outputs": [],
   "source": [
    "query = '''\n",
    "SELECT\n",
    "    fv_articlename AS Nama_Artikel,\n",
    "    fv_namacust AS Nama_Toko,\n",
    "    EXTRACT(YEAR_MONTH FROM t_penjualanmst.fd_tgljual) AS Bulan_Tahun,\n",
    "    SUM(t_penjualandtl_goods.fn_jualpersize) AS Total_Qty_PCS\n",
    "FROM\n",
    "    t_penjualanmst\n",
    "JOIN\n",
    "    t_penjualandtl_goods ON t_penjualanmst.fv_nopenjualan = t_penjualandtl_goods.fv_nopenjualan\n",
    "WHERE\n",
    "    t_penjualanmst.fd_tgljual BETWEEN '2023-01-01' AND '2023-10-31'\n",
    "GROUP BY\n",
    "    Nama_Artikel, Bulan_Tahun\n",
    "ORDER BY\n",
    "    Bulan_Tahun;\n",
    "'''\n",
    "cursor.execute(query)\n",
    "result = cursor.fetchall()"
   ]
  },
  {
   "cell_type": "code",
   "execution_count": 7,
   "id": "31f3f6a7",
   "metadata": {
    "execution": {
     "iopub.execute_input": "2023-11-11T10:51:45.213288Z",
     "iopub.status.busy": "2023-11-11T10:51:45.212148Z",
     "iopub.status.idle": "2023-11-11T10:51:45.246796Z",
     "shell.execute_reply": "2023-11-11T10:51:45.245174Z"
    },
    "papermill": {
     "duration": 0.043888,
     "end_time": "2023-11-11T10:51:45.250097",
     "exception": false,
     "start_time": "2023-11-11T10:51:45.206209",
     "status": "completed"
    },
    "tags": []
   },
   "outputs": [
    {
     "data": {
      "text/html": [
       "<div>\n",
       "<style scoped>\n",
       "    .dataframe tbody tr th:only-of-type {\n",
       "        vertical-align: middle;\n",
       "    }\n",
       "\n",
       "    .dataframe tbody tr th {\n",
       "        vertical-align: top;\n",
       "    }\n",
       "\n",
       "    .dataframe thead th {\n",
       "        text-align: right;\n",
       "    }\n",
       "</style>\n",
       "<table border=\"1\" class=\"dataframe\">\n",
       "  <thead>\n",
       "    <tr style=\"text-align: right;\">\n",
       "      <th></th>\n",
       "      <th>0</th>\n",
       "      <th>1</th>\n",
       "      <th>2</th>\n",
       "      <th>3</th>\n",
       "    </tr>\n",
       "  </thead>\n",
       "  <tbody>\n",
       "    <tr>\n",
       "      <th>0</th>\n",
       "      <td>HOODIE JACKET REGULAR</td>\n",
       "      <td>GALERIA BIP BANDUNG</td>\n",
       "      <td>202301</td>\n",
       "      <td>1</td>\n",
       "    </tr>\n",
       "    <tr>\n",
       "      <th>1</th>\n",
       "      <td>5 POCKET SHORT DENIM</td>\n",
       "      <td>GALERIA BIP BANDUNG</td>\n",
       "      <td>202301</td>\n",
       "      <td>1</td>\n",
       "    </tr>\n",
       "    <tr>\n",
       "      <th>2</th>\n",
       "      <td>HENLEY SHIRT REGULAR</td>\n",
       "      <td>GALERIA BIP BANDUNG</td>\n",
       "      <td>202301</td>\n",
       "      <td>1</td>\n",
       "    </tr>\n",
       "    <tr>\n",
       "      <th>3</th>\n",
       "      <td>CHINO PANT SLIM</td>\n",
       "      <td>GALERIA BIP BANDUNG</td>\n",
       "      <td>202301</td>\n",
       "      <td>2</td>\n",
       "    </tr>\n",
       "    <tr>\n",
       "      <th>4</th>\n",
       "      <td>TRUCKER JACKET</td>\n",
       "      <td>GALERIA BIP BANDUNG</td>\n",
       "      <td>202301</td>\n",
       "      <td>1</td>\n",
       "    </tr>\n",
       "    <tr>\n",
       "      <th>...</th>\n",
       "      <td>...</td>\n",
       "      <td>...</td>\n",
       "      <td>...</td>\n",
       "      <td>...</td>\n",
       "    </tr>\n",
       "    <tr>\n",
       "      <th>240</th>\n",
       "      <td>BOOMBER JACKET SLIM</td>\n",
       "      <td>GALERIA BIP BANDUNG</td>\n",
       "      <td>202310</td>\n",
       "      <td>2</td>\n",
       "    </tr>\n",
       "    <tr>\n",
       "      <th>241</th>\n",
       "      <td>SHORT SLEEVE SHIRT REGULAR</td>\n",
       "      <td>GALERIA BIP BANDUNG</td>\n",
       "      <td>202310</td>\n",
       "      <td>37</td>\n",
       "    </tr>\n",
       "    <tr>\n",
       "      <th>242</th>\n",
       "      <td>CHINO PANT SLIM</td>\n",
       "      <td>GALERIA BIP BANDUNG</td>\n",
       "      <td>202310</td>\n",
       "      <td>2</td>\n",
       "    </tr>\n",
       "    <tr>\n",
       "      <th>243</th>\n",
       "      <td>CARGO SHORT REGULAR</td>\n",
       "      <td>GALERIA BIP BANDUNG</td>\n",
       "      <td>202310</td>\n",
       "      <td>4</td>\n",
       "    </tr>\n",
       "    <tr>\n",
       "      <th>244</th>\n",
       "      <td>5 POCKET SHORT DENIM REGULAR</td>\n",
       "      <td>GALERIA BIP BANDUNG</td>\n",
       "      <td>202310</td>\n",
       "      <td>3</td>\n",
       "    </tr>\n",
       "  </tbody>\n",
       "</table>\n",
       "<p>245 rows × 4 columns</p>\n",
       "</div>"
      ],
      "text/plain": [
       "                                0                    1       2   3\n",
       "0           HOODIE JACKET REGULAR  GALERIA BIP BANDUNG  202301   1\n",
       "1            5 POCKET SHORT DENIM  GALERIA BIP BANDUNG  202301   1\n",
       "2            HENLEY SHIRT REGULAR  GALERIA BIP BANDUNG  202301   1\n",
       "3                 CHINO PANT SLIM  GALERIA BIP BANDUNG  202301   2\n",
       "4                  TRUCKER JACKET  GALERIA BIP BANDUNG  202301   1\n",
       "..                            ...                  ...     ...  ..\n",
       "240           BOOMBER JACKET SLIM  GALERIA BIP BANDUNG  202310   2\n",
       "241    SHORT SLEEVE SHIRT REGULAR  GALERIA BIP BANDUNG  202310  37\n",
       "242               CHINO PANT SLIM  GALERIA BIP BANDUNG  202310   2\n",
       "243           CARGO SHORT REGULAR  GALERIA BIP BANDUNG  202310   4\n",
       "244  5 POCKET SHORT DENIM REGULAR  GALERIA BIP BANDUNG  202310   3\n",
       "\n",
       "[245 rows x 4 columns]"
      ]
     },
     "execution_count": 7,
     "metadata": {},
     "output_type": "execute_result"
    }
   ],
   "source": [
    "df = pd.DataFrame(result)\n",
    "df"
   ]
  },
  {
   "cell_type": "code",
   "execution_count": 8,
   "id": "284c693f",
   "metadata": {
    "execution": {
     "iopub.execute_input": "2023-11-11T10:51:45.262629Z",
     "iopub.status.busy": "2023-11-11T10:51:45.262165Z",
     "iopub.status.idle": "2023-11-11T10:51:45.268749Z",
     "shell.execute_reply": "2023-11-11T10:51:45.267739Z"
    },
    "papermill": {
     "duration": 0.015808,
     "end_time": "2023-11-11T10:51:45.271278",
     "exception": false,
     "start_time": "2023-11-11T10:51:45.255470",
     "status": "completed"
    },
    "tags": []
   },
   "outputs": [],
   "source": [
    "connection.close()"
   ]
  }
 ],
 "metadata": {
  "kaggle": {
   "accelerator": "none",
   "dataSources": [],
   "dockerImageVersionId": 30579,
   "isGpuEnabled": false,
   "isInternetEnabled": true,
   "language": "python",
   "sourceType": "notebook"
  },
  "kernelspec": {
   "display_name": "Python 3",
   "language": "python",
   "name": "python3"
  },
  "language_info": {
   "codemirror_mode": {
    "name": "ipython",
    "version": 3
   },
   "file_extension": ".py",
   "mimetype": "text/x-python",
   "name": "python",
   "nbconvert_exporter": "python",
   "pygments_lexer": "ipython3",
   "version": "3.10.12"
  },
  "papermill": {
   "default_parameters": {},
   "duration": 24.180264,
   "end_time": "2023-11-11T10:51:46.099879",
   "environment_variables": {},
   "exception": null,
   "input_path": "__notebook__.ipynb",
   "output_path": "__notebook__.ipynb",
   "parameters": {},
   "start_time": "2023-11-11T10:51:21.919615",
   "version": "2.4.0"
  }
 },
 "nbformat": 4,
 "nbformat_minor": 5
}
